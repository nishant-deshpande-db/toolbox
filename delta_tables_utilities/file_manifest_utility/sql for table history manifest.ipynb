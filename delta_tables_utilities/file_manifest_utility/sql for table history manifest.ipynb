{
 "cells": [
  {
   "cell_type": "code",
   "execution_count": 0,
   "metadata": {
    "application/vnd.databricks.v1+cell": {
     "cellMetadata": {
      "byteLimit": 2048000,
      "rowLimit": 10000
     },
     "inputWidgets": {},
     "nuid": "c2cdd6c5-2ecc-41e0-8c91-21219afcbe60",
     "showTitle": false,
     "tableResultSettingsMap": {},
     "title": ""
    }
   },
   "outputs": [],
   "source": [
    "%sql\n",
    "DECLARE OR REPLACE VARIABLE v_manifest_table string;\n",
    "-- set var v_manifest_table = 'nishant_deshpande.tmp.manifest_11';\n",
    "-- set var v_manifest_table = 'nishant_deshpande.tmp.manifest_12';\n",
    "-- set var v_manifest_table = 'nishant_deshpande.tmp.manifest_test_20250611_2';\n",
    "-- set var v_manifest_table = 'nishant_deshpande.tmp.manifest_nishant_deshpande__tmp__tpch_orders_20250610_1_20250612_181515'\n",
    "set var v_manifest_table = 'nishant_deshpande.tmp.manifest_test_20250612_175844'"
   ]
  },
  {
   "cell_type": "code",
   "execution_count": 0,
   "metadata": {
    "application/vnd.databricks.v1+cell": {
     "cellMetadata": {
      "byteLimit": 2048000,
      "rowLimit": 10000
     },
     "inputWidgets": {},
     "nuid": "20056842-5e96-45af-9b84-8fef83379eb6",
     "showTitle": false,
     "tableResultSettingsMap": {},
     "title": ""
    }
   },
   "outputs": [],
   "source": [
    "%sql\n",
    "desc IDENTIFIER(v_manifest_table)"
   ]
  },
  {
   "cell_type": "code",
   "execution_count": 0,
   "metadata": {
    "application/vnd.databricks.v1+cell": {
     "cellMetadata": {
      "byteLimit": 2048000,
      "rowLimit": 10000
     },
     "inputWidgets": {},
     "nuid": "c6df0743-1d9a-4a01-994b-993c2699e67b",
     "showTitle": false,
     "tableResultSettingsMap": {},
     "title": ""
    }
   },
   "outputs": [],
   "source": [
    "%sql\n",
    "with latest_table_files as (\n",
    "  select distinct table_name, file_name, file_size\n",
    "  from IDENTIFIER(v_manifest_table)\n",
    "  where latest_version = 1\n",
    "),\n",
    "retention_table_files as (\n",
    "  select distinct table_name, file_name, file_size\n",
    "  from IDENTIFIER(v_manifest_table)\n",
    "  where in_retention_period = 1\n",
    "),\n",
    "all_table_files as (\n",
    "  select distinct table_name, file_name, file_size\n",
    "  from IDENTIFIER(v_manifest_table)\n",
    "),\n",
    "table_ranking as (\n",
    "  select table_name, \n",
    "    sum(file_size) as total_table_file_size, \n",
    "    row_number() over (order by sum(file_size) desc) as table_rank\n",
    "  from retention_table_files\n",
    "  group by 1\n",
    "),\n",
    "table_union as (\n",
    "  select 'latest' as type, table_name, \n",
    "    -- min(table_version_number) as min_tv, max(table_version_number) as max_tv, \n",
    "    count(1) as num_files, sum(file_size) as total_file_size\n",
    "  from latest_table_files\n",
    "  group by 1, 2\n",
    "  union all\n",
    "  select 'in_retention' as type, table_name, \n",
    "    -- min(table_version_number) as min_tv, max(table_version_number) as max_tv, \n",
    "    count(1) as num_files, sum(file_size) as total_file_size\n",
    "  from retention_table_files\n",
    "  group by 1, 2\n",
    "  union all\n",
    "  select 'all' as type, table_name, \n",
    "    -- min(table_version_number) as min_tv, max(table_version_number) as max_tv, \n",
    "    count(1) as num_files, sum(file_size) as total_file_size\n",
    "  from all_table_files\n",
    "  group by 1, 2\n",
    ")\n",
    "select type, table_name, num_files, total_file_size, table_rank\n",
    "from table_union\n",
    "join table_ranking using(table_name)\n",
    "-- order by total_file_size desc, type desc\n",
    "-- order by table_name desc, type desc\n",
    "order by table_rank asc, type desc\n",
    ";"
   ]
  },
  {
   "cell_type": "code",
   "execution_count": 0,
   "metadata": {
    "application/vnd.databricks.v1+cell": {
     "cellMetadata": {},
     "inputWidgets": {},
     "nuid": "724461f4-3048-4a82-9765-e8283f6ffa97",
     "showTitle": false,
     "tableResultSettingsMap": {},
     "title": ""
    }
   },
   "outputs": [],
   "source": []
  }
 ],
 "metadata": {
  "application/vnd.databricks.v1+notebook": {
   "computePreferences": null,
   "dashboards": [],
   "environmentMetadata": {
    "base_environment": "",
    "environment_version": "2"
   },
   "inputWidgetPreferences": null,
   "language": "scala",
   "notebookMetadata": {
    "pythonIndentUnit": 2
   },
   "notebookName": "sql for table history manifest",
   "widgets": {}
  },
  "language_info": {
   "name": "scala"
  }
 },
 "nbformat": 4,
 "nbformat_minor": 0
}
