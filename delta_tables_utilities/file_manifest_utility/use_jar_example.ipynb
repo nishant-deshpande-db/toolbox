{
 "cells": [
  {
   "cell_type": "markdown",
   "metadata": {
    "application/vnd.databricks.v1+cell": {
     "cellMetadata": {},
     "inputWidgets": {},
     "nuid": "714d7fcc-b280-4f0a-b2d5-3acccba07dc2",
     "showTitle": false,
     "tableResultSettingsMap": {},
     "title": ""
    }
   },
   "source": [
    "##### Creating a manifest for table files\n",
    "\n",
    "1. Load the library onto the cluster.\n",
    "2. The cluster must have access to the tables and schemas. This will probably require a dedicated / single-user cluster.\n",
    "3. Use DBR 16.4 LTS. The library has only been tested on this DBR.\n",
    "4. Try it out on a few tables or a schema with a small number of tables and look at the results to familiarize yourself with them.\n"
   ]
  },
  {
   "cell_type": "code",
   "execution_count": 0,
   "metadata": {
    "application/vnd.databricks.v1+cell": {
     "cellMetadata": {
      "byteLimit": 2048000,
      "rowLimit": 10000
     },
     "inputWidgets": {},
     "nuid": "a0543bfb-c8f4-4411-9cd7-22228da7ef47",
     "showTitle": false,
     "tableResultSettingsMap": {},
     "title": ""
    }
   },
   "outputs": [],
   "source": [
    "%scala\n",
    "// **** Replace the values for these variables *****\n",
    "\n",
    "// You can either specify schemas or tablenames, not both.\n",
    "// Use full names (catalog.schema) or (catalog.schema.table).\n",
    "val schemas = Seq(\"nishant_deshpande.perf\", \"nishant_deshpande.tpch\")\n",
    "val tableNames = Seq()\n",
    "\n",
    "// This table will be created. It must not exist.\n",
    "val outputTableName = \"nishant_deshpande.tmp.manifest_test_20250612_175844\"\n",
    "\n",
    "// Get files for table versions within the retention period.\n",
    "// First run with true so you get some data for all tables.\n",
    "// Then, run with false if you want (into another outputTable), as this may take a long time if there are tables with a lot of versions.\n",
    "val getInRetentionPeriodOnly = true\n",
    "\n",
    "// If you have a lot of tables, increase this. But also increase the size of the cluster.\n",
    "// You probabably don't want to make this more than 50 without making sure you have a decent sized driver.\n",
    "val maxParallelism = 10\n"
   ]
  },
  {
   "cell_type": "code",
   "execution_count": 0,
   "metadata": {
    "application/vnd.databricks.v1+cell": {
     "cellMetadata": {
      "byteLimit": 2048000,
      "rowLimit": 10000
     },
     "inputWidgets": {},
     "nuid": "aee1366e-d331-41e7-92e6-04efb07ce193",
     "showTitle": false,
     "tableResultSettingsMap": {},
     "title": ""
    }
   },
   "outputs": [],
   "source": [
    "%scala\n",
    "// If this errors, the library has not been loaded onto this cluster.\n",
    "import com.databricks.fe_utils.TableHistoryManifest"
   ]
  },
  {
   "cell_type": "code",
   "execution_count": 0,
   "metadata": {
    "application/vnd.databricks.v1+cell": {
     "cellMetadata": {
      "byteLimit": 2048000,
      "rowLimit": 10000
     },
     "inputWidgets": {},
     "nuid": "9e675706-a5f8-4c53-a3a0-253e39723664",
     "showTitle": false,
     "tableResultSettingsMap": {},
     "title": ""
    }
   },
   "outputs": [],
   "source": [
    "%scala\n",
    "TableHistoryManifest.generateDeltaFileManifestsWithTableHistory(\n",
    "  schemas = schemas,\n",
    "  tableNames = tableNames,\n",
    "  outputTableName = outputTableName,\n",
    "  getInRetentionPeriodOnly = getInRetentionPeriodOnly,\n",
    "  maxParallelism = maxParallelism\n",
    ")\n",
    "// generateDeltaFileManifestsWithTableHistory()"
   ]
  },
  {
   "cell_type": "code",
   "execution_count": 0,
   "metadata": {
    "application/vnd.databricks.v1+cell": {
     "cellMetadata": {},
     "inputWidgets": {},
     "nuid": "73fb9083-fe0e-481d-ac97-8ac4d46e80d7",
     "showTitle": false,
     "tableResultSettingsMap": {},
     "title": ""
    }
   },
   "outputs": [],
   "source": []
  }
 ],
 "metadata": {
  "application/vnd.databricks.v1+notebook": {
   "computePreferences": null,
   "dashboards": [],
   "environmentMetadata": {
    "base_environment": "",
    "environment_version": "2"
   },
   "inputWidgetPreferences": null,
   "language": "scala",
   "notebookMetadata": {},
   "notebookName": "use_jar_example",
   "widgets": {}
  },
  "language_info": {
   "name": "scala"
  }
 },
 "nbformat": 4,
 "nbformat_minor": 0
}
